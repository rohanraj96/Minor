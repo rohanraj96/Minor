{
 "cells": [
  {
   "cell_type": "code",
   "execution_count": 124,
   "metadata": {
    "collapsed": false
   },
   "outputs": [],
   "source": [
    "import cv2\n",
    "from os import listdir\n",
    "import numpy as np"
   ]
  },
  {
   "cell_type": "code",
   "execution_count": 125,
   "metadata": {
    "collapsed": false
   },
   "outputs": [],
   "source": [
    "mypath = 'C:/Users/user/Desktop/Minor/PETA/PETA dataset/3DPeS/archive'\n",
    "files = listdir(mypath)\n",
    "del files[-1]"
   ]
  },
  {
   "cell_type": "code",
   "execution_count": 126,
   "metadata": {
    "collapsed": true
   },
   "outputs": [],
   "source": [
    "images = np.empty((len(person_path)), dtype=object)\n",
    "resized_imgs = np.empty((len(person_path)), dtype=object)\n",
    "for n in range(0, len(person_path)):\n",
    "    images[n] = cv2.imread(person_path[n],0) #Reading images in grayscale\n",
    "    resized_imgs[n] = cv2.resize(images[n],(32,32)) #Resizing images to 32x32 standard size"
   ]
  },
  {
   "cell_type": "code",
   "execution_count": 128,
   "metadata": {
    "collapsed": false
   },
   "outputs": [],
   "source": [
    "person = []\n",
    "k = listdir(mypath)\n",
    "\n",
    "for i in range(len(files)):\n",
    "    j = str(i+1)+'_' #To identify all files in the form 1_,2_,3_ etc\n",
    "    person_num = [f.startswith(j) for f in files] #Boolean values of all places very j(or '(i+1)_') is True\n",
    "    #count = person_num.count(True) #Count the True values\n",
    "    idx =  [k for k, x in enumerate(person_num) if x] #Return indices of where the values are True\n",
    "    (person.append([files[l] for l in idx]))"
   ]
  },
  {
   "cell_type": "code",
   "execution_count": 117,
   "metadata": {
    "collapsed": true
   },
   "outputs": [],
   "source": [
    "#Specifying path for each image\n",
    "person = np.array(person)\n",
    "person_path = []\n",
    "mypath = 'C:/Users/user/Desktop/Minor/PETA/PETA dataset/3DPeS/archive/'\n",
    "for p in person:\n",
    "    each_p = p\n",
    "    for i in each_p:\n",
    "        i = mypath + i\n",
    "        (person_path).append(i)"
   ]
  },
  {
   "cell_type": "code",
   "execution_count": 118,
   "metadata": {
    "collapsed": false
   },
   "outputs": [],
   "source": [
    "#images = np.empty((len(person_path)), dtype=object)\n",
    "#resized_imgs = np.empty((len(person_path)), dtype=object)\n",
    "#for n in range(0, len(person_path)):\n",
    "#    images[n] = cv2.imread(person_path[n],0) #Reading images in grayscale\n",
    "#    resized_imgs[n] = cv2.resize(images[n],(32,32)) #Resizing images to 32x32 standard size"
   ]
  },
  {
   "cell_type": "code",
   "execution_count": 153,
   "metadata": {
    "collapsed": false
   },
   "outputs": [
    {
     "data": {
      "text/plain": [
       "119.35901023653656"
      ]
     },
     "execution_count": 153,
     "metadata": {},
     "output_type": "execute_result"
    }
   ],
   "source": [
    "images = np.matrix(resized_imgs)\n",
    "dev_list = [] #np.empty(len(images), dtype=object)\n",
    "mean_list = []\n",
    "mean = images.mean(0).mean().mean()\n",
    "for i in range(images[:,:].size):\n",
    "    mean_list.append(images[:,:][0,i].mean())\n",
    "for i in range(images[:,:].size):\n",
    "    dev_list.append(images[:,:][0,i].std())\n",
    "    #a[0,0].std()\n",
    "#dev_list\n",
    "sum(mean_list)/len(mean_list)\n",
    "mean"
   ]
  },
  {
   "cell_type": "code",
   "execution_count": 134,
   "metadata": {
    "collapsed": false
   },
   "outputs": [
    {
     "data": {
      "text/plain": [
       "(1, 1012)"
      ]
     },
     "execution_count": 134,
     "metadata": {},
     "output_type": "execute_result"
    }
   ],
   "source": [
    "images.shape"
   ]
  },
  {
   "cell_type": "code",
   "execution_count": 83,
   "metadata": {
    "collapsed": false
   },
   "outputs": [
    {
     "data": {
      "text/plain": [
       "matrix([[ matrix([[-24.35901024, -13.35901024, -15.35901024, ..., -33.35901024,\n",
       "         -33.35901024, -33.35901024],\n",
       "        [ -8.35901024, -17.35901024, -18.35901024, ..., -33.35901024,\n",
       "         -40.35901024, -33.35901024],\n",
       "        [-15.35901024, -28.35901024, -27.35901024, ..., -40.35901024,\n",
       "         -29.35901024, -27.35901024],\n",
       "        ..., \n",
       "        [-59.35901024, -61.35901024, -59.35901024, ..., -68.35901024,\n",
       "         -71.35901024, -67.35901024],\n",
       "        [-56.35901024, -56.35901024, -59.35901024, ..., -60.35901024,\n",
       "         -58.35901024, -56.35901024],\n",
       "        [-58.35901024, -58.35901024, -58.35901024, ..., -50.35901024,\n",
       "         -55.35901024, -51.35901024]]),\n",
       "         matrix([[  98.64098976,  103.64098976,  113.64098976, ...,   45.64098976,\n",
       "           89.64098976,  127.64098976],\n",
       "        [  82.64098976,  126.64098976,  107.64098976, ...,  108.64098976,\n",
       "          120.64098976,  108.64098976],\n",
       "        [  97.64098976,  112.64098976,  122.64098976, ...,  113.64098976,\n",
       "          122.64098976,  118.64098976],\n",
       "        ..., \n",
       "        [ 120.64098976,  105.64098976,   74.64098976, ...,   74.64098976,\n",
       "           67.64098976,   52.64098976],\n",
       "        [ 123.64098976,  107.64098976,  128.64098976, ...,  113.64098976,\n",
       "          114.64098976,  110.64098976],\n",
       "        [ 118.64098976,  132.64098976,  115.64098976, ...,  127.64098976,\n",
       "          117.64098976,  125.64098976]]),\n",
       "         matrix([[ -29.35901024,  -11.35901024,   45.64098976, ...,   -1.35901024,\n",
       "           86.64098976,   81.64098976],\n",
       "        [  35.64098976,   75.64098976,   40.64098976, ...,   33.64098976,\n",
       "           71.64098976,   62.64098976],\n",
       "        [  53.64098976,   87.64098976,  -15.35901024, ...,   -1.35901024,\n",
       "           -7.35901024,   70.64098976],\n",
       "        ..., \n",
       "        [  95.64098976,   89.64098976,   90.64098976, ...,  105.64098976,\n",
       "          108.64098976,  113.64098976],\n",
       "        [ 116.64098976,  104.64098976,   79.64098976, ...,   92.64098976,\n",
       "           99.64098976,   84.64098976],\n",
       "        [ 104.64098976,   87.64098976,   94.64098976, ...,   84.64098976,\n",
       "           89.64098976,   80.64098976]]),\n",
       "         ...,\n",
       "         matrix([[  6.64098976,   6.64098976,   3.64098976, ...,  14.64098976,\n",
       "          21.64098976,  20.64098976],\n",
       "        [  8.64098976,  14.64098976,   7.64098976, ...,  11.64098976,\n",
       "          13.64098976,  13.64098976],\n",
       "        [  2.64098976,   5.64098976,   6.64098976, ...,   9.64098976,\n",
       "           7.64098976,   8.64098976],\n",
       "        ..., \n",
       "        [ -7.35901024,  -6.35901024, -12.35901024, ..., -18.35901024,\n",
       "         -19.35901024, -15.35901024],\n",
       "        [-11.35901024, -12.35901024, -14.35901024, ...,  -6.35901024,\n",
       "         -12.35901024, -11.35901024],\n",
       "        [-14.35901024, -17.35901024, -24.35901024, ..., -17.35901024,\n",
       "         -20.35901024, -19.35901024]]),\n",
       "         matrix([[ 16.64098976,  16.64098976,  13.64098976, ...,  11.64098976,\n",
       "          16.64098976,  15.64098976],\n",
       "        [ 27.64098976,  13.64098976,  20.64098976, ...,  17.64098976,\n",
       "           9.64098976,  12.64098976],\n",
       "        [  7.64098976,  10.64098976,  10.64098976, ...,  10.64098976,\n",
       "          14.64098976,  12.64098976],\n",
       "        ..., \n",
       "        [ -3.35901024,  -8.35901024,  -8.35901024, ...,  61.64098976,\n",
       "          61.64098976,  77.64098976],\n",
       "        [ -8.35901024,  -8.35901024,  -5.35901024, ...,  82.64098976,\n",
       "          60.64098976,  67.64098976],\n",
       "        [ -4.35901024,  -5.35901024,  -6.35901024, ...,  30.64098976,\n",
       "          73.64098976,  57.64098976]]),\n",
       "         matrix([[ 11.64098976,   1.64098976,  -4.35901024, ...,  39.64098976,\n",
       "          24.64098976,  27.64098976],\n",
       "        [  3.64098976,  -0.35901024,   1.64098976, ...,  -5.35901024,\n",
       "          -1.35901024,  -3.35901024],\n",
       "        [ 78.64098976,  45.64098976,  15.64098976, ...,  -6.35901024,\n",
       "          -7.35901024,  -2.35901024],\n",
       "        ..., \n",
       "        [-10.35901024,  -5.35901024,  21.64098976, ..., -17.35901024,\n",
       "         -21.35901024, -21.35901024],\n",
       "        [ -1.35901024,  -8.35901024, -75.35901024, ..., -26.35901024,\n",
       "         -17.35901024, -18.35901024],\n",
       "        [ 54.64098976,  35.64098976,  19.64098976, ..., -27.35901024,\n",
       "         -28.35901024, -26.35901024]])]], dtype=object)"
      ]
     },
     "execution_count": 83,
     "metadata": {},
     "output_type": "execute_result"
    }
   ],
   "source": [
    "images - mean"
   ]
  },
  {
   "cell_type": "code",
   "execution_count": null,
   "metadata": {
    "collapsed": true
   },
   "outputs": [],
   "source": []
  },
  {
   "cell_type": "code",
   "execution_count": null,
   "metadata": {
    "collapsed": true
   },
   "outputs": [],
   "source": []
  },
  {
   "cell_type": "code",
   "execution_count": null,
   "metadata": {
    "collapsed": true
   },
   "outputs": [],
   "source": []
  },
  {
   "cell_type": "code",
   "execution_count": null,
   "metadata": {
    "collapsed": true
   },
   "outputs": [],
   "source": []
  },
  {
   "cell_type": "code",
   "execution_count": null,
   "metadata": {
    "collapsed": true
   },
   "outputs": [],
   "source": []
  },
  {
   "cell_type": "code",
   "execution_count": null,
   "metadata": {
    "collapsed": true
   },
   "outputs": [],
   "source": []
  },
  {
   "cell_type": "code",
   "execution_count": null,
   "metadata": {
    "collapsed": true
   },
   "outputs": [],
   "source": []
  },
  {
   "cell_type": "code",
   "execution_count": null,
   "metadata": {
    "collapsed": true
   },
   "outputs": [],
   "source": []
  },
  {
   "cell_type": "code",
   "execution_count": null,
   "metadata": {
    "collapsed": true
   },
   "outputs": [],
   "source": []
  },
  {
   "cell_type": "code",
   "execution_count": null,
   "metadata": {
    "collapsed": true
   },
   "outputs": [],
   "source": []
  },
  {
   "cell_type": "code",
   "execution_count": null,
   "metadata": {
    "collapsed": true
   },
   "outputs": [],
   "source": []
  },
  {
   "cell_type": "code",
   "execution_count": null,
   "metadata": {
    "collapsed": true
   },
   "outputs": [],
   "source": []
  },
  {
   "cell_type": "code",
   "execution_count": null,
   "metadata": {
    "collapsed": true
   },
   "outputs": [],
   "source": []
  },
  {
   "cell_type": "code",
   "execution_count": null,
   "metadata": {
    "collapsed": true
   },
   "outputs": [],
   "source": []
  },
  {
   "cell_type": "code",
   "execution_count": null,
   "metadata": {
    "collapsed": true
   },
   "outputs": [],
   "source": []
  },
  {
   "cell_type": "code",
   "execution_count": null,
   "metadata": {
    "collapsed": true
   },
   "outputs": [],
   "source": []
  },
  {
   "cell_type": "code",
   "execution_count": null,
   "metadata": {
    "collapsed": true
   },
   "outputs": [],
   "source": []
  },
  {
   "cell_type": "code",
   "execution_count": null,
   "metadata": {
    "collapsed": true
   },
   "outputs": [],
   "source": []
  },
  {
   "cell_type": "code",
   "execution_count": null,
   "metadata": {
    "collapsed": true
   },
   "outputs": [],
   "source": []
  },
  {
   "cell_type": "code",
   "execution_count": null,
   "metadata": {
    "collapsed": true
   },
   "outputs": [],
   "source": []
  }
 ],
 "metadata": {
  "kernelspec": {
   "display_name": "Python [Root]",
   "language": "python",
   "name": "Python [Root]"
  },
  "language_info": {
   "codemirror_mode": {
    "name": "ipython",
    "version": 3
   },
   "file_extension": ".py",
   "mimetype": "text/x-python",
   "name": "python",
   "nbconvert_exporter": "python",
   "pygments_lexer": "ipython3",
   "version": "3.5.1"
  }
 },
 "nbformat": 4,
 "nbformat_minor": 0
}
