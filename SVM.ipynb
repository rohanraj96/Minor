{
 "cells": [
  {
   "cell_type": "code",
   "execution_count": 146,
   "metadata": {
    "collapsed": false
   },
   "outputs": [],
   "source": [
    "from sklearn.svm import SVC\n",
    "from sklearn.preprocessing import Imputer\n",
    "from os import listdir\n",
    "from os.path import isfile, join\n",
    "import numpy as np\n",
    "import cv2\n",
    "import pandas as pd"
   ]
  },
  {
   "cell_type": "code",
   "execution_count": 147,
   "metadata": {
    "collapsed": false
   },
   "outputs": [],
   "source": [
    "mypath = 'C:/Users/user/Desktop/Minor/PETA/PETA dataset/3DPeS/archive'\n",
    "#onlyfiles = [f for f in listdir(mypath) if isfile(join(mypath,f))]\n",
    "k = listdir(mypath)\n",
    "images = np.empty((len(k)), dtype=object)\n",
    "for n in range(0, len(k)-1):\n",
    "    images[n] = cv2.imread(join(mypath,k[n]),0) #Reading images in grayscale"
   ]
  },
  {
   "cell_type": "code",
   "execution_count": 148,
   "metadata": {
    "collapsed": false
   },
   "outputs": [],
   "source": [
    "labels = k[-1]"
   ]
  },
  {
   "cell_type": "code",
   "execution_count": 149,
   "metadata": {
    "collapsed": false
   },
   "outputs": [],
   "source": [
    "data = pd.read_csv(join(mypath,k[-1]), sep=\" \", header = None)\n",
    "m,n = data.shape\n",
    "data.set_index([0],inplace=True)\n",
    "data.sort_index(0)\n",
    "data.columns = ['UBC','LBC', 'HC', 'FC', 'P:C/F','P', 'A', 'Sex', 'C/F','SL','SD','HL','F','C','Acc','E1','E2','E3']\n",
    "attributes = data.columns.tolist()\n",
    "#Original DataFrame has 193 rows which also equals the number of images"
   ]
  },
  {
   "cell_type": "code",
   "execution_count": 150,
   "metadata": {
    "collapsed": true
   },
   "outputs": [],
   "source": [
    "strng_1 = ['upper','lower','hair','footwear','Casual|Formal','Jeans|Trousers|Suits|Shorts|ShortSkirt','Less','Male|Female','Casual|Formal','Sleeve']"
   ]
  },
  {
   "cell_type": "code",
   "execution_count": 151,
   "metadata": {
    "collapsed": true
   },
   "outputs": [],
   "source": [
    "def cleaning(CURRENT,STRING,NEXT):\n",
    "    data.ix[data[NEXT].str.contains(STRING,na=False),CURRENT] =...\n",
    "    data[NEXT][data[NEXT].str.contains(STRING,na=False)]"
   ]
  },
  {
   "cell_type": "code",
   "execution_count": 152,
   "metadata": {
    "collapsed": false
   },
   "outputs": [],
   "source": [
    "for x,y in zip(range(len(attributes)),strng_1):\n",
    "    cleaning(attributes[x],y,attributes[x-1])\n",
    "    cleaning(attributes[x],y,attributes[x+1])\n",
    "    cleaning(attributes[x],y,attributes[x+2])\n",
    "data = data.sort_index()\n",
    "#data.head()\n",
    "#We have cleaned till Sleeve Length"
   ]
  },
  {
   "cell_type": "code",
   "execution_count": 153,
   "metadata": {
    "collapsed": false
   },
   "outputs": [],
   "source": [
    "#We're skipping shirt design and shirt type and moving on to Hair Length\n",
    "strng_2 = ['hair','footwear','carrying','accessory']\n",
    "attributes_2 = attributes[11:]\n",
    "for x,y in zip(range(len(attributes_2)),strng_2):\n",
    "    cleaning(attributes_2[x],y,attributes_2[x-1])\n",
    "    cleaning(attributes_2[x],y,attributes_2[x+1])\n",
    "    cleaning(attributes_2[x],y,attributes_2[x+2])\n",
    "    cleaning(attributes_2[x],y,attributes_2[x+3])"
   ]
  },
  {
   "cell_type": "code",
   "execution_count": 154,
   "metadata": {
    "collapsed": false
   },
   "outputs": [],
   "source": [
    "data = data.drop(['SD','E1','E2','E3'],axis=1)"
   ]
  },
  {
   "cell_type": "code",
   "execution_count": 155,
   "metadata": {
    "collapsed": false
   },
   "outputs": [
    {
     "data": {
      "text/html": [
       "<style>body {\n",
       "    margin: 0;\n",
       "    font-family: Helvetica;\n",
       "}\n",
       "table.dataframe {\n",
       "    border-collapse: collapse;\n",
       "    border: none;\n",
       "}\n",
       "table.dataframe tr {\n",
       "    border: none;\n",
       "}\n",
       "table.dataframe td, table.dataframe th {\n",
       "    margin: 0;\n",
       "    border: 1px solid white;\n",
       "    padding-left: 0.25em;\n",
       "    padding-right: 0.25em;\n",
       "}\n",
       "table.dataframe th:not(:empty) {\n",
       "    background-color: #fec;\n",
       "    text-align: left;\n",
       "    font-weight: normal;\n",
       "}\n",
       "table.dataframe tr:nth-child(2) th:empty {\n",
       "    border-left: none;\n",
       "    border-right: 1px dashed #888;\n",
       "}\n",
       "table.dataframe td {\n",
       "    border: 2px solid #ccf;\n",
       "    background-color: #f4f4ff;\n",
       "}\n",
       "h3 {\n",
       "    color: white;\n",
       "    background-color: black;\n",
       "    padding: 0.5em;\n",
       "}\n",
       "</style>"
      ],
      "text/plain": [
       "<IPython.core.display.HTML object>"
      ]
     },
     "execution_count": 155,
     "metadata": {},
     "output_type": "execute_result"
    }
   ],
   "source": [
    "from IPython.core.display import HTML\n",
    "css = open(r'C:\\Users\\user\\Desktop\\Programming\\pycon-pandas-tutorial-1.0\\style-table.css').read() + open(r'C:\\Users\\user\\Desktop\\Programming\\pycon-pandas-tutorial-1.0\\style-notebook.css').read()\n",
    "HTML('<style>{}</style>'.format(css))"
   ]
  },
  {
   "cell_type": "code",
   "execution_count": 156,
   "metadata": {
    "collapsed": false
   },
   "outputs": [],
   "source": [
    "for strng in strng_2:\n",
    "    strng_1.append(strng)\n",
    "strng_ell=[None]\n",
    "for strng in strng_1:\n",
    "    strng_ell.append('|'.join([strng,'Ellipsis']))\n",
    "strng_ell = strng_ell[1:]"
   ]
  },
  {
   "cell_type": "code",
   "execution_count": 157,
   "metadata": {
    "collapsed": false
   },
   "outputs": [],
   "source": [
    "del attributes[10:12]\n",
    "del attributes[14:]"
   ]
  },
  {
   "cell_type": "code",
   "execution_count": 158,
   "metadata": {
    "collapsed": false
   },
   "outputs": [],
   "source": [
    "def eliminating(CURRENT,STRING):\n",
    "    mask = ~data[CURRENT].str.contains(STRING,na=False)\n",
    "    data.ix[mask,CURRENT] = \" \""
   ]
  },
  {
   "cell_type": "code",
   "execution_count": 159,
   "metadata": {
    "collapsed": false
   },
   "outputs": [],
   "source": [
    "attributes[-4:] = ['HL','F','C','Acc']"
   ]
  },
  {
   "cell_type": "code",
   "execution_count": 160,
   "metadata": {
    "collapsed": false
   },
   "outputs": [],
   "source": [
    "for x,y in zip(attributes,strng_ell):\n",
    "    eliminating(x,y)"
   ]
  },
  {
   "cell_type": "code",
   "execution_count": 161,
   "metadata": {
    "collapsed": false
   },
   "outputs": [
    {
     "data": {
      "text/plain": [
       "                       105\n",
       "accessoryNothing        70\n",
       "accessorySunglasses     12\n",
       "accessoryHairBand        4\n",
       "accessoryHat             1\n",
       "accessoryHeadphone       1\n",
       "Name: Acc, dtype: int64"
      ]
     },
     "execution_count": 161,
     "metadata": {},
     "output_type": "execute_result"
    }
   ],
   "source": [
    "data.Acc.value_counts()"
   ]
  },
  {
   "cell_type": "code",
   "execution_count": null,
   "metadata": {
    "collapsed": true
   },
   "outputs": [],
   "source": []
  },
  {
   "cell_type": "code",
   "execution_count": null,
   "metadata": {
    "collapsed": false
   },
   "outputs": [],
   "source": [
    "data.replace([\" \"],[np.nan])"
   ]
  },
  {
   "cell_type": "code",
   "execution_count": null,
   "metadata": {
    "collapsed": true
   },
   "outputs": [],
   "source": []
  },
  {
   "cell_type": "code",
   "execution_count": null,
   "metadata": {
    "collapsed": true
   },
   "outputs": [],
   "source": []
  },
  {
   "cell_type": "code",
   "execution_count": null,
   "metadata": {
    "collapsed": true
   },
   "outputs": [],
   "source": []
  },
  {
   "cell_type": "code",
   "execution_count": null,
   "metadata": {
    "collapsed": true
   },
   "outputs": [],
   "source": []
  },
  {
   "cell_type": "code",
   "execution_count": null,
   "metadata": {
    "collapsed": true
   },
   "outputs": [],
   "source": []
  },
  {
   "cell_type": "code",
   "execution_count": null,
   "metadata": {
    "collapsed": true
   },
   "outputs": [],
   "source": []
  },
  {
   "cell_type": "code",
   "execution_count": null,
   "metadata": {
    "collapsed": true
   },
   "outputs": [],
   "source": []
  }
 ],
 "metadata": {
  "anaconda-cloud": {},
  "kernelspec": {
   "display_name": "Python [Root]",
   "language": "python",
   "name": "Python [Root]"
  },
  "language_info": {
   "codemirror_mode": {
    "name": "ipython",
    "version": 3
   },
   "file_extension": ".py",
   "mimetype": "text/x-python",
   "name": "python",
   "nbconvert_exporter": "python",
   "pygments_lexer": "ipython3",
   "version": "3.5.1"
  }
 },
 "nbformat": 4,
 "nbformat_minor": 0
}
