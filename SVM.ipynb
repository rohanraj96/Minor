{
 "cells": [
  {
   "cell_type": "code",
   "execution_count": 476,
   "metadata": {
    "collapsed": true
   },
   "outputs": [],
   "source": [
    "from sklearn.svm import SVC\n",
    "from os import listdir\n",
    "from os.path import isfile, join\n",
    "import numpy as np\n",
    "import cv2\n",
    "import pandas as pd"
   ]
  },
  {
   "cell_type": "code",
   "execution_count": 477,
   "metadata": {
    "collapsed": false
   },
   "outputs": [],
   "source": [
    "mypath = 'C:/Users/user/Desktop/Minor/PETA/PETA dataset/3DPeS/archive'\n",
    "#onlyfiles = [f for f in listdir(mypath) if isfile(join(mypath,f))]\n",
    "k = listdir(mypath)\n",
    "images = np.empty((len(k)), dtype=object)\n",
    "for n in range(0, len(k)-1):\n",
    "    images[n] = cv2.imread(join(mypath,k[n]))"
   ]
  },
  {
   "cell_type": "code",
   "execution_count": 478,
   "metadata": {
    "collapsed": false
   },
   "outputs": [],
   "source": [
    "labels = k[-1]"
   ]
  },
  {
   "cell_type": "code",
   "execution_count": 479,
   "metadata": {
    "collapsed": false
   },
   "outputs": [
    {
     "name": "stderr",
     "output_type": "stream",
     "text": [
      "b'Skipping line 13: expected 17 fields, saw 18\\nSkipping line 16: expected 17 fields, saw 18\\nSkipping line 21: expected 17 fields, saw 19\\nSkipping line 28: expected 17 fields, saw 18\\nSkipping line 31: expected 17 fields, saw 18\\nSkipping line 48: expected 17 fields, saw 18\\nSkipping line 54: expected 17 fields, saw 18\\nSkipping line 57: expected 17 fields, saw 18\\nSkipping line 64: expected 17 fields, saw 18\\nSkipping line 68: expected 17 fields, saw 18\\nSkipping line 93: expected 17 fields, saw 18\\nSkipping line 103: expected 17 fields, saw 18\\nSkipping line 124: expected 17 fields, saw 18\\nSkipping line 136: expected 17 fields, saw 18\\nSkipping line 142: expected 17 fields, saw 19\\nSkipping line 156: expected 17 fields, saw 18\\nSkipping line 166: expected 17 fields, saw 18\\nSkipping line 179: expected 17 fields, saw 19\\nSkipping line 188: expected 17 fields, saw 18\\n'\n"
     ]
    }
   ],
   "source": [
    "data = pd.read_csv(join(mypath,k[-1]), sep=\" \", header = None, error_bad_lines = False)\n",
    "m,n = data.shape\n",
    "data.set_index([0],inplace=True)\n",
    "data.sort_index(0,inplace=True)\n",
    "data['Upper Body'] = np.ones((m,1))\n",
    "a = data.columns.tolist()\n",
    "data.columns = ['Upper Body Color','Lower Body Color', 'Hair Color', 'Footwear Color', 'Pants:Casual/Formal',\n",
    "                'Pants', 'Age', 'Sex', 'Casual/Formal','Sleeve Length','Shirt Design','Shirt Type','Hair Length',\n",
    "                'Footwear','Carrying','Accessory','Upper Body']\n",
    "a = data.columns.tolist()\n",
    "i = a.index('Upper Body')\n",
    "j = a.index('Lower Body Color')\n",
    "a = a[:j] + a[i:i+1] + a[j:-1]\n",
    "data = data[a]\n",
    "#Original DataFrame has 174 rows"
   ]
  },
  {
   "cell_type": "code",
   "execution_count": 495,
   "metadata": {
    "collapsed": false
   },
   "outputs": [],
   "source": [
    "#Collecting upperBody from Lower Body Color\n",
    "pd.set_option('max_colwidth',1000)\n",
    "data['Upper Body'][data['Lower Body Color'].str.startswith('upperBody')] = ...\n",
    "data['Lower Body Color'][data['Lower Body Color'].str.startswith('upperBody')]\n",
    "pd.set_option(\"max_rows\",200)\n",
    "pd.set_option(\"large_repr\",'info')\n",
    "#At this point, we are done with the first two columns (upperBody values). They don't have to be touched now, except in\n",
    "#later stages"
   ]
  },
  {
   "cell_type": "code",
   "execution_count": 494,
   "metadata": {
    "collapsed": false
   },
   "outputs": [
    {
     "data": {
      "text/plain": [
       "0\n",
       "1             1\n",
       "2             1\n",
       "3             1\n",
       "4      Ellipsis\n",
       "5      Ellipsis\n",
       "6             1\n",
       "7             1\n",
       "8      Ellipsis\n",
       "9             1\n",
       "10     Ellipsis\n",
       "11            1\n",
       "12            1\n",
       "13            1\n",
       "14            1\n",
       "15     Ellipsis\n",
       "16            1\n",
       "17            1\n",
       "18            1\n",
       "19            1\n",
       "20            1\n",
       "22     Ellipsis\n",
       "23            1\n",
       "25            1\n",
       "26            1\n",
       "27            1\n",
       "28            1\n",
       "29            1\n",
       "30            1\n",
       "31            1\n",
       "32            1\n",
       "33            1\n",
       "34            1\n",
       "35            1\n",
       "36            1\n",
       "37            1\n",
       "38            1\n",
       "39            1\n",
       "42            1\n",
       "43            1\n",
       "45            1\n",
       "46     Ellipsis\n",
       "47            1\n",
       "48            1\n",
       "49            1\n",
       "50            1\n",
       "51            1\n",
       "52            1\n",
       "53            1\n",
       "54            1\n",
       "55            1\n",
       "56            1\n",
       "57            1\n",
       "58            1\n",
       "59            1\n",
       "61            1\n",
       "62            1\n",
       "63            1\n",
       "64            1\n",
       "65            1\n",
       "66            1\n",
       "68            1\n",
       "70            1\n",
       "71            1\n",
       "72            1\n",
       "73            1\n",
       "74            1\n",
       "75            1\n",
       "76            1\n",
       "77            1\n",
       "78            1\n",
       "79            1\n",
       "80     Ellipsis\n",
       "83            1\n",
       "84            1\n",
       "85            1\n",
       "86            1\n",
       "87            1\n",
       "88            1\n",
       "89            1\n",
       "90            1\n",
       "91            1\n",
       "92            1\n",
       "93            1\n",
       "95            1\n",
       "96            1\n",
       "97            1\n",
       "98            1\n",
       "99            1\n",
       "100           1\n",
       "104           1\n",
       "105           1\n",
       "106    Ellipsis\n",
       "107           1\n",
       "109           1\n",
       "110           1\n",
       "111           1\n",
       "112           1\n",
       "113           1\n",
       "114           1\n",
       "116           1\n",
       "117           1\n",
       "119           1\n",
       "120           1\n",
       "121           1\n",
       "122           1\n",
       "123           1\n",
       "124           1\n",
       "126           1\n",
       "127           1\n",
       "128           1\n",
       "129           1\n",
       "130           1\n",
       "132           1\n",
       "133           1\n",
       "134           1\n",
       "136           1\n",
       "137           1\n",
       "138           1\n",
       "139           1\n",
       "140           1\n",
       "141           1\n",
       "142           1\n",
       "143           1\n",
       "144           1\n",
       "145           1\n",
       "146           1\n",
       "147           1\n",
       "148           1\n",
       "149           1\n",
       "150    Ellipsis\n",
       "151           1\n",
       "153           1\n",
       "154           1\n",
       "155           1\n",
       "156           1\n",
       "157           1\n",
       "159           1\n",
       "161           1\n",
       "162           1\n",
       "163           1\n",
       "164           1\n",
       "166           1\n",
       "167    Ellipsis\n",
       "168           1\n",
       "169           1\n",
       "170           1\n",
       "171           1\n",
       "172           1\n",
       "174           1\n",
       "175           1\n",
       "178           1\n",
       "179           1\n",
       "180           1\n",
       "182           1\n",
       "183           1\n",
       "184    Ellipsis\n",
       "185           1\n",
       "186    Ellipsis\n",
       "187           1\n",
       "188           1\n",
       "189           1\n",
       "190           1\n",
       "191           1\n",
       "192           1\n",
       "193    Ellipsis\n",
       "194           1\n",
       "196           1\n",
       "197           1\n",
       "198           1\n",
       "199           1\n",
       "200           1\n",
       "201           1\n",
       "202           1\n",
       "204           1\n",
       "Name: Upper Body, dtype: object"
      ]
     },
     "execution_count": 494,
     "metadata": {},
     "output_type": "execute_result"
    }
   ],
   "source": [
    "data['Upper Body']"
   ]
  },
  {
   "cell_type": "code",
   "execution_count": 431,
   "metadata": {
    "collapsed": false
   },
   "outputs": [],
   "source": [
    "#Collecting lowerBody from Lower Body color Hair Color column\n",
    "data['Lower Body Color'][data['Hair Color'].str.startswith('lowerBody')] = data['Hair Color'][data['Hair Color'].str.startswith('lowerBody')]\n",
    "#We have collected all lowerBody color information in the same column"
   ]
  },
  {
   "cell_type": "code",
   "execution_count": 432,
   "metadata": {
    "collapsed": false
   },
   "outputs": [
    {
     "data": {
      "text/plain": [
       "Series([], Name: Lower Body Color, dtype: object)"
      ]
     },
     "execution_count": 432,
     "metadata": {},
     "output_type": "execute_result"
    }
   ],
   "source": [
    "#Collecting hair from Footwear Color and lower body color\n",
    "data['Hair Color'][data['Footwear Color'].str.startswith('hair')] =...\n",
    "data['Footwear Color'][data['Footwear Color'].str.startswith('hair')]\n",
    "data['Hair Color'][data['Lower Body Color'].str.startswith('hair')] =...\n",
    "data['Lower Body Color'][data['Lower Body Color'].str.startswith('hair')]\n",
    "#data['Hair Color'].value_counts()\n",
    "#Done with hair color. 'footwear' and 'lower body' entries have to be omitted later"
   ]
  },
  {
   "cell_type": "code",
   "execution_count": 433,
   "metadata": {
    "collapsed": false
   },
   "outputs": [
    {
     "data": {
      "text/plain": [
       "0\n",
       "4      footwearBlack\n",
       "8      footwearBrown\n",
       "10     footwearBlack\n",
       "14     footwearWhite\n",
       "15      footwearGrey\n",
       "17     footwearWhite\n",
       "19     footwearWhite\n",
       "22     footwearBlack\n",
       "46     footwearBlack\n",
       "50     footwearWhite\n",
       "80     footwearBlack\n",
       "106    footwearBlack\n",
       "113    footwearWhite\n",
       "117    footwearWhite\n",
       "129    footwearWhite\n",
       "132    footwearWhite\n",
       "137    footwearWhite\n",
       "140    footwearWhite\n",
       "142    footwearWhite\n",
       "150    footwearBrown\n",
       "164    footwearWhite\n",
       "167    footwearBlack\n",
       "171    footwearWhite\n",
       "184    footwearBlack\n",
       "186    footwearBlack\n",
       "193    footwearBlack\n",
       "Name: Pants:Casual/Formal, dtype: object"
      ]
     },
     "execution_count": 433,
     "metadata": {},
     "output_type": "execute_result"
    }
   ],
   "source": [
    "#Collecting footwear from hair and pants\n",
    "data['Footwear Color'][data['Hair Color'].str.startswith('footwear',na=False)] =...\n",
    "data['Hair Color'][data['Hair Color'].str.startswith('footwear',na=False)]\n",
    "data['Footwear Color'][data['Pants:Casual/Formal'].str.startswith('footwear',na=False)] =...\n",
    "data['Pants:Casual/Formal'][data['Pants:Casual/Formal'].str.startswith('footwear',na=False)]\n",
    "#Done with footwear"
   ]
  },
  {
   "cell_type": "code",
   "execution_count": 434,
   "metadata": {
    "collapsed": true
   },
   "outputs": [],
   "source": [
    "#Collecting pants\n",
    "data['Pants'][data['Age'].str.startswith('lower')]=data['Age'][data['Age'].str.startswith('lower',na=False)]\n",
    "mask = (data['Pants:Casual/Formal'].str.contains('lowerBodyCasual')|data['Pants:Casual/Formal'].str.contains('lowerBodyFormal'))&~(data['Pants'].str.contains('lowerBody'))\n",
    "data['Pants'][mask]=data['Pants:Casual/Formal'][mask]\n",
    "#Done with Pants. We are not using the 'Casual/Formal' column but we're incorporating those values in the 'Pants' column wherever\n",
    "#possible"
   ]
  },
  {
   "cell_type": "code",
   "execution_count": 435,
   "metadata": {
    "collapsed": false
   },
   "outputs": [],
   "source": [
    "#Collecting Age\n",
    "data['Age'][data['Pants'].str.contains('personalL',na=False)] = data['Pants'][data['Pants'].str.contains('personalL',na=False)]\n",
    "data['Age'][data['Sex'].str.contains('personalL')] = data['Sex'][data['Sex'].str.contains('personalL')]\n",
    "#Done with age"
   ]
  },
  {
   "cell_type": "code",
   "execution_count": 436,
   "metadata": {
    "collapsed": false
   },
   "outputs": [
    {
     "data": {
      "text/plain": [
       "personalMale       151\n",
       "personalLess30      13\n",
       "personalFemale       4\n",
       "upperBodyFormal      2\n",
       "personalLess45       2\n",
       "upperBodyLogo        1\n",
       "upperBodyCasual      1\n",
       "Name: Sex, dtype: int64"
      ]
     },
     "execution_count": 436,
     "metadata": {},
     "output_type": "execute_result"
    }
   ],
   "source": [
    "#Collecting Sex\n",
    "mask2 = data['Casual/Formal'].str.contains('personalMale',na=False)\n",
    "data['Sex'][mask2] = data['Casual/Formal'][mask2]\n",
    "data['Sex'].value_counts()\n",
    "#Done with Sex"
   ]
  },
  {
   "cell_type": "code",
   "execution_count": 437,
   "metadata": {
    "collapsed": false
   },
   "outputs": [
    {
     "data": {
      "text/plain": [
       "upperBodyShortSleeve    111\n",
       "upperBodyLongSleeve      52\n",
       "upperBodyCasual           5\n",
       "upperBodyNoSleeve         3\n",
       "upperBodyOther            1\n",
       "upperBodyTshirt           1\n",
       "upperBodySweater          1\n",
       "Name: Sleeve Length, dtype: int64"
      ]
     },
     "execution_count": 437,
     "metadata": {},
     "output_type": "execute_result"
    }
   ],
   "source": [
    "#Collecting Sleeve Length\n",
    "mask1 = data['Casual/Formal'].str.contains('Sleeve')\n",
    "data['Sleeve Length'][mask1] = data['Casual/Formal'][mask1]\n",
    "mask2 = data['Shirt Design'].str.contains('Sleeve')\n",
    "data['Sleeve Length'][mask2] = data['Shirt Design'][mask2]\n",
    "data['Sleeve Length'].value_counts()\n",
    "#Done with sleeves"
   ]
  },
  {
   "cell_type": "code",
   "execution_count": 438,
   "metadata": {
    "collapsed": false
   },
   "outputs": [],
   "source": [
    "#We're skipping shirt design and shirt type and moving on to Hair Length\n",
    "mask1 = data['Shirt Type'].str.contains('hair',na=False)\n",
    "mask2 = data['Footwear'].str.contains('hair',na=False)\n",
    "data['Hair Length'][mask1] = data['Shirt Type'][mask1]\n",
    "\n",
    "data['Hair Length'][mask2] = data['Footwear'][mask2]\n",
    "#Moving on"
   ]
  },
  {
   "cell_type": "code",
   "execution_count": 439,
   "metadata": {
    "collapsed": false
   },
   "outputs": [],
   "source": [
    "#Footwear\n",
    "mask1 = data['Carrying'].str.contains('footwear',na=False)\n",
    "mask2 = data['Hair Length'].str.contains('footwear',na=False)\n",
    "data['Footwear'][mask1] = data['Carrying'][mask1]\n",
    "data['Footwear'][mask2] = data['Hair Length'][mask2]"
   ]
  },
  {
   "cell_type": "code",
   "execution_count": 440,
   "metadata": {
    "collapsed": false
   },
   "outputs": [],
   "source": [
    "#Carrying\n",
    "mask1 = data['Footwear'].str.contains('carrying',na=False)\n",
    "mask2 = data['Accessory'].str.contains('carrying',na=False)\n",
    "mask3 = data['Hair Length'].str.contains('carrying',na=False)\n",
    "data['Carrying'][mask1] = data['Footwear'][mask1]\n",
    "data['Carrying'][mask2] = data['Accessory'][mask2]\n",
    "data['Carrying'][mask3] = data['Hair Length'][mask3]"
   ]
  },
  {
   "cell_type": "code",
   "execution_count": 441,
   "metadata": {
    "collapsed": false
   },
   "outputs": [],
   "source": [
    "#Accesory is already taken care of\n",
    "mask1 = data['Carrying'].str.contains('accessory',na=False)\n",
    "mask2 = data['Footwear'].str.contains('accessory',na=False)\n",
    "data['Accessory'][mask1] = data['Carrying'][mask1]\n",
    "data['Accessory'][mask2] = data['Footwear'][mask2]"
   ]
  },
  {
   "cell_type": "code",
   "execution_count": 442,
   "metadata": {
    "collapsed": false,
    "scrolled": true
   },
   "outputs": [
    {
     "data": {
      "text/html": [
       "<div>\n",
       "<table border=\"1\" class=\"dataframe\">\n",
       "  <thead>\n",
       "    <tr style=\"text-align: right;\">\n",
       "      <th></th>\n",
       "      <th>Upper Body Color</th>\n",
       "      <th>Upper Body</th>\n",
       "      <th>Lower Body Color</th>\n",
       "      <th>Hair Color</th>\n",
       "      <th>Footwear Color</th>\n",
       "      <th>Pants</th>\n",
       "      <th>Age</th>\n",
       "      <th>Sex</th>\n",
       "      <th>Sleeve Length</th>\n",
       "      <th>Hair Length</th>\n",
       "      <th>Footwear</th>\n",
       "      <th>Carrying</th>\n",
       "      <th>Accessory</th>\n",
       "    </tr>\n",
       "    <tr>\n",
       "      <th>0</th>\n",
       "      <th></th>\n",
       "      <th></th>\n",
       "      <th></th>\n",
       "      <th></th>\n",
       "      <th></th>\n",
       "      <th></th>\n",
       "      <th></th>\n",
       "      <th></th>\n",
       "      <th></th>\n",
       "      <th></th>\n",
       "      <th></th>\n",
       "      <th></th>\n",
       "      <th></th>\n",
       "    </tr>\n",
       "  </thead>\n",
       "  <tbody>\n",
       "    <tr>\n",
       "      <th>1</th>\n",
       "      <td>upperBodyBlue</td>\n",
       "      <td>1</td>\n",
       "      <td>lowerBodyBlack</td>\n",
       "      <td>hairBlack</td>\n",
       "      <td>footwearWhite</td>\n",
       "      <td>lowerBodyJeans</td>\n",
       "      <td>personalLess45</td>\n",
       "      <td>personalMale</td>\n",
       "      <td>upperBodyShortSleeve</td>\n",
       "      <td>hairShort</td>\n",
       "      <td>footwearShoes</td>\n",
       "      <td>carryingMessengerBag</td>\n",
       "      <td>accessoryNothing</td>\n",
       "    </tr>\n",
       "    <tr>\n",
       "      <th>2</th>\n",
       "      <td>upperBodyRed</td>\n",
       "      <td>1</td>\n",
       "      <td>lowerBodyGrey</td>\n",
       "      <td>hairBrown</td>\n",
       "      <td>footwearWhite</td>\n",
       "      <td>lowerBodyJeans</td>\n",
       "      <td>personalLess30</td>\n",
       "      <td>personalLess30</td>\n",
       "      <td>upperBodyShortSleeve</td>\n",
       "      <td>hairShort</td>\n",
       "      <td>carryingNothing</td>\n",
       "      <td>carryingNothing</td>\n",
       "      <td>NaN</td>\n",
       "    </tr>\n",
       "    <tr>\n",
       "      <th>3</th>\n",
       "      <td>upperBodyBlue</td>\n",
       "      <td>1</td>\n",
       "      <td>lowerBodyBlack</td>\n",
       "      <td>hairBlack</td>\n",
       "      <td>footwearWhite</td>\n",
       "      <td>lowerBodyTrousers</td>\n",
       "      <td>personalLess30</td>\n",
       "      <td>personalMale</td>\n",
       "      <td>upperBodyShortSleeve</td>\n",
       "      <td>hairShort</td>\n",
       "      <td>carryingNothing</td>\n",
       "      <td>carryingNothing</td>\n",
       "      <td>NaN</td>\n",
       "    </tr>\n",
       "    <tr>\n",
       "      <th>4</th>\n",
       "      <td>upperBodyBlack</td>\n",
       "      <td>Ellipsis</td>\n",
       "      <td>lowerBodyBlack</td>\n",
       "      <td>Ellipsis</td>\n",
       "      <td>Ellipsis</td>\n",
       "      <td>lowerBodyJeans</td>\n",
       "      <td>personalLess30</td>\n",
       "      <td>personalMale</td>\n",
       "      <td>upperBodyShortSleeve</td>\n",
       "      <td>hairShort</td>\n",
       "      <td>carryingNothing</td>\n",
       "      <td>carryingNothing</td>\n",
       "      <td>NaN</td>\n",
       "    </tr>\n",
       "    <tr>\n",
       "      <th>5</th>\n",
       "      <td>upperBodyBlack</td>\n",
       "      <td>Ellipsis</td>\n",
       "      <td>lowerBodyBlue</td>\n",
       "      <td>lowerBodyBlue</td>\n",
       "      <td>footwearBrown</td>\n",
       "      <td>lowerBodyJeans</td>\n",
       "      <td>personalLarger60</td>\n",
       "      <td>personalMale</td>\n",
       "      <td>upperBodyShortSleeve</td>\n",
       "      <td>carryingNothing</td>\n",
       "      <td>accessoryNothing</td>\n",
       "      <td>carryingNothing</td>\n",
       "      <td>accessoryNothing</td>\n",
       "    </tr>\n",
       "  </tbody>\n",
       "</table>\n",
       "</div>"
      ],
      "text/plain": [
       "  Upper Body Color Upper Body Lower Body Color     Hair Color Footwear Color  \\\n",
       "0                                                                              \n",
       "1    upperBodyBlue          1   lowerBodyBlack      hairBlack  footwearWhite   \n",
       "2     upperBodyRed          1    lowerBodyGrey      hairBrown  footwearWhite   \n",
       "3    upperBodyBlue          1   lowerBodyBlack      hairBlack  footwearWhite   \n",
       "4   upperBodyBlack   Ellipsis   lowerBodyBlack       Ellipsis       Ellipsis   \n",
       "5   upperBodyBlack   Ellipsis    lowerBodyBlue  lowerBodyBlue  footwearBrown   \n",
       "\n",
       "               Pants               Age             Sex         Sleeve Length  \\\n",
       "0                                                                              \n",
       "1     lowerBodyJeans    personalLess45    personalMale  upperBodyShortSleeve   \n",
       "2     lowerBodyJeans    personalLess30  personalLess30  upperBodyShortSleeve   \n",
       "3  lowerBodyTrousers    personalLess30    personalMale  upperBodyShortSleeve   \n",
       "4     lowerBodyJeans    personalLess30    personalMale  upperBodyShortSleeve   \n",
       "5     lowerBodyJeans  personalLarger60    personalMale  upperBodyShortSleeve   \n",
       "\n",
       "       Hair Length          Footwear              Carrying         Accessory  \n",
       "0                                                                             \n",
       "1        hairShort     footwearShoes  carryingMessengerBag  accessoryNothing  \n",
       "2        hairShort   carryingNothing       carryingNothing               NaN  \n",
       "3        hairShort   carryingNothing       carryingNothing               NaN  \n",
       "4        hairShort   carryingNothing       carryingNothing               NaN  \n",
       "5  carryingNothing  accessoryNothing       carryingNothing  accessoryNothing  "
      ]
     },
     "execution_count": 442,
     "metadata": {},
     "output_type": "execute_result"
    }
   ],
   "source": [
    "data = data.drop(['Pants:Casual/Formal','Casual/Formal','Shirt Type','Shirt Design'],axis=1)\n",
    "data.head(5)"
   ]
  },
  {
   "cell_type": "code",
   "execution_count": 443,
   "metadata": {
    "collapsed": false
   },
   "outputs": [
    {
     "data": {
      "text/html": [
       "<style>body {\n",
       "    margin: 0;\n",
       "    font-family: Helvetica;\n",
       "}\n",
       "table.dataframe {\n",
       "    border-collapse: collapse;\n",
       "    border: none;\n",
       "}\n",
       "table.dataframe tr {\n",
       "    border: none;\n",
       "}\n",
       "table.dataframe td, table.dataframe th {\n",
       "    margin: 0;\n",
       "    border: 1px solid white;\n",
       "    padding-left: 0.25em;\n",
       "    padding-right: 0.25em;\n",
       "}\n",
       "table.dataframe th:not(:empty) {\n",
       "    background-color: #fec;\n",
       "    text-align: left;\n",
       "    font-weight: normal;\n",
       "}\n",
       "table.dataframe tr:nth-child(2) th:empty {\n",
       "    border-left: none;\n",
       "    border-right: 1px dashed #888;\n",
       "}\n",
       "table.dataframe td {\n",
       "    border: 2px solid #ccf;\n",
       "    background-color: #f4f4ff;\n",
       "}\n",
       "h3 {\n",
       "    color: white;\n",
       "    background-color: black;\n",
       "    padding: 0.5em;\n",
       "}\n",
       "</style>"
      ],
      "text/plain": [
       "<IPython.core.display.HTML object>"
      ]
     },
     "execution_count": 443,
     "metadata": {},
     "output_type": "execute_result"
    }
   ],
   "source": [
    "from IPython.core.display import HTML\n",
    "css = open(r'C:\\Users\\user\\Desktop\\Programming\\pycon-pandas-tutorial-1.0\\style-table.css').read() + open(r'C:\\Users\\user\\Desktop\\Programming\\pycon-pandas-tutorial-1.0\\style-notebook.css').read()\n",
    "HTML('<style>{}</style>'.format(css))"
   ]
  },
  {
   "cell_type": "code",
   "execution_count": 444,
   "metadata": {
    "collapsed": false
   },
   "outputs": [
    {
     "data": {
      "text/plain": [
       "hairBlack     133\n",
       "               18\n",
       "hairBrown      16\n",
       "hairGrey        4\n",
       "hairYellow      2\n",
       "hairWhite       1\n",
       "Name: Hair Color, dtype: int64"
      ]
     },
     "execution_count": 444,
     "metadata": {},
     "output_type": "execute_result"
    }
   ],
   "source": [
    "mask = data['Hair Color'].str.startswith('hair') | data['Hair Color'].str.contains('Ellipsis')\n",
    "data['Hair Color'][~mask] = \" \"\n",
    "data['Hair Color'].value_counts()"
   ]
  },
  {
   "cell_type": "code",
   "execution_count": 445,
   "metadata": {
    "collapsed": false
   },
   "outputs": [
    {
     "data": {
      "text/plain": [
       "footwearWhite    63\n",
       "footwearBlack    58\n",
       "                 31\n",
       "footwearBrown    19\n",
       "footwearGrey      3\n",
       "Name: Footwear Color, dtype: int64"
      ]
     },
     "execution_count": 445,
     "metadata": {},
     "output_type": "execute_result"
    }
   ],
   "source": [
    "mask = data['Footwear Color'].str.startswith('footwear') | data['Hair Color'].str.contains('Ellipsis')\n",
    "data['Footwear Color'][~mask] = \" \"\n",
    "data['Footwear Color'].value_counts()"
   ]
  },
  {
   "cell_type": "code",
   "execution_count": 446,
   "metadata": {
    "collapsed": false
   },
   "outputs": [
    {
     "data": {
      "text/plain": [
       "lowerBodyJeans         69\n",
       "lowerBodyTrousers      50\n",
       "lowerBodySuits         24\n",
       "lowerBodyShorts        24\n",
       "                        4\n",
       "lowerBodyShortSkirt     2\n",
       "lowerBodyCasual         1\n",
       "Name: Pants, dtype: int64"
      ]
     },
     "execution_count": 446,
     "metadata": {},
     "output_type": "execute_result"
    }
   ],
   "source": [
    "mask = data['Pants'].str.startswith('lower',na=False)\n",
    "data['Pants'][~mask] = \" \"\n",
    "data['Pants'].value_counts()"
   ]
  },
  {
   "cell_type": "code",
   "execution_count": 447,
   "metadata": {
    "collapsed": false
   },
   "outputs": [
    {
     "data": {
      "text/plain": [
       "personalLess30      96\n",
       "personalLess45      52\n",
       "personalLess60      15\n",
       "personalLarger60     5\n",
       "                     5\n",
       "personalLess15       1\n",
       "Name: Age, dtype: int64"
      ]
     },
     "execution_count": 447,
     "metadata": {},
     "output_type": "execute_result"
    }
   ],
   "source": [
    "mask = data['Age'].str.startswith('personal',na=False)\n",
    "data['Age'][~mask] = \" \"\n",
    "data['Age'].value_counts()"
   ]
  },
  {
   "cell_type": "code",
   "execution_count": 448,
   "metadata": {
    "collapsed": false
   },
   "outputs": [
    {
     "data": {
      "text/plain": [
       "personalMale      151\n",
       "                   19\n",
       "personalFemale      4\n",
       "Name: Sex, dtype: int64"
      ]
     },
     "execution_count": 448,
     "metadata": {},
     "output_type": "execute_result"
    }
   ],
   "source": [
    "mask = data['Sex'].str.contains('Male',na=False) | data['Sex'].str.contains('Female')\n",
    "data['Sex'][~mask] = \" \"\n",
    "data['Sex'].value_counts()"
   ]
  },
  {
   "cell_type": "code",
   "execution_count": 449,
   "metadata": {
    "collapsed": false
   },
   "outputs": [
    {
     "data": {
      "text/plain": [
       "upperBodyShortSleeve    111\n",
       "upperBodyLongSleeve      52\n",
       "                          8\n",
       "upperBodyNoSleeve         3\n",
       "Name: Sleeve Length, dtype: int64"
      ]
     },
     "execution_count": 449,
     "metadata": {},
     "output_type": "execute_result"
    }
   ],
   "source": [
    "mask = data['Sleeve Length'].str.contains('Sleeve',na=False)\n",
    "data['Sleeve Length'][~mask] = \" \"\n",
    "data['Sleeve Length'].value_counts()"
   ]
  },
  {
   "cell_type": "code",
   "execution_count": 451,
   "metadata": {
    "collapsed": false
   },
   "outputs": [
    {
     "data": {
      "text/plain": [
       "hairShort    117\n",
       "              40\n",
       "hairLong      13\n",
       "hairBald       4\n",
       "Name: Hair Length, dtype: int64"
      ]
     },
     "execution_count": 451,
     "metadata": {},
     "output_type": "execute_result"
    }
   ],
   "source": [
    "mask = data['Hair Length'].str.startswith('hair',na=False)\n",
    "data['Hair Length'][~mask] = \" \"\n",
    "data['Hair Length'].value_counts()"
   ]
  },
  {
   "cell_type": "code",
   "execution_count": 452,
   "metadata": {
    "collapsed": false
   },
   "outputs": [],
   "source": [
    "#We'll drop footwear because there are not enough data points for this column\n",
    "data = data.drop(['Footwear'],axis=1)"
   ]
  },
  {
   "cell_type": "code",
   "execution_count": 453,
   "metadata": {
    "collapsed": false
   },
   "outputs": [
    {
     "data": {
      "text/html": [
       "<div>\n",
       "<table border=\"1\" class=\"dataframe\">\n",
       "  <thead>\n",
       "    <tr style=\"text-align: right;\">\n",
       "      <th></th>\n",
       "      <th>Upper Body Color</th>\n",
       "      <th>Upper Body</th>\n",
       "      <th>Lower Body Color</th>\n",
       "      <th>Hair Color</th>\n",
       "      <th>Footwear Color</th>\n",
       "      <th>Pants</th>\n",
       "      <th>Age</th>\n",
       "      <th>Sex</th>\n",
       "      <th>Sleeve Length</th>\n",
       "      <th>Hair Length</th>\n",
       "      <th>Carrying</th>\n",
       "      <th>Accessory</th>\n",
       "    </tr>\n",
       "    <tr>\n",
       "      <th>0</th>\n",
       "      <th></th>\n",
       "      <th></th>\n",
       "      <th></th>\n",
       "      <th></th>\n",
       "      <th></th>\n",
       "      <th></th>\n",
       "      <th></th>\n",
       "      <th></th>\n",
       "      <th></th>\n",
       "      <th></th>\n",
       "      <th></th>\n",
       "      <th></th>\n",
       "    </tr>\n",
       "  </thead>\n",
       "  <tbody>\n",
       "    <tr>\n",
       "      <th>1</th>\n",
       "      <td>upperBodyBlue</td>\n",
       "      <td></td>\n",
       "      <td>lowerBodyBlack</td>\n",
       "      <td>hairBlack</td>\n",
       "      <td>footwearWhite</td>\n",
       "      <td>lowerBodyJeans</td>\n",
       "      <td>personalLess45</td>\n",
       "      <td>personalMale</td>\n",
       "      <td>upperBodyShortSleeve</td>\n",
       "      <td>hairShort</td>\n",
       "      <td>carryingMessengerBag</td>\n",
       "      <td>accessoryNothing</td>\n",
       "    </tr>\n",
       "    <tr>\n",
       "      <th>2</th>\n",
       "      <td>upperBodyRed</td>\n",
       "      <td></td>\n",
       "      <td>lowerBodyGrey</td>\n",
       "      <td>hairBrown</td>\n",
       "      <td>footwearWhite</td>\n",
       "      <td>lowerBodyJeans</td>\n",
       "      <td>personalLess30</td>\n",
       "      <td></td>\n",
       "      <td>upperBodyShortSleeve</td>\n",
       "      <td>hairShort</td>\n",
       "      <td>carryingNothing</td>\n",
       "      <td>NaN</td>\n",
       "    </tr>\n",
       "    <tr>\n",
       "      <th>3</th>\n",
       "      <td>upperBodyBlue</td>\n",
       "      <td></td>\n",
       "      <td>lowerBodyBlack</td>\n",
       "      <td>hairBlack</td>\n",
       "      <td>footwearWhite</td>\n",
       "      <td>lowerBodyTrousers</td>\n",
       "      <td>personalLess30</td>\n",
       "      <td>personalMale</td>\n",
       "      <td>upperBodyShortSleeve</td>\n",
       "      <td>hairShort</td>\n",
       "      <td>carryingNothing</td>\n",
       "      <td>NaN</td>\n",
       "    </tr>\n",
       "    <tr>\n",
       "      <th>4</th>\n",
       "      <td>upperBodyBlack</td>\n",
       "      <td>Ellipsis</td>\n",
       "      <td>lowerBodyBlack</td>\n",
       "      <td></td>\n",
       "      <td></td>\n",
       "      <td>lowerBodyJeans</td>\n",
       "      <td>personalLess30</td>\n",
       "      <td>personalMale</td>\n",
       "      <td>upperBodyShortSleeve</td>\n",
       "      <td>hairShort</td>\n",
       "      <td>carryingNothing</td>\n",
       "      <td>NaN</td>\n",
       "    </tr>\n",
       "    <tr>\n",
       "      <th>5</th>\n",
       "      <td>upperBodyBlack</td>\n",
       "      <td>Ellipsis</td>\n",
       "      <td>lowerBodyBlue</td>\n",
       "      <td></td>\n",
       "      <td>footwearBrown</td>\n",
       "      <td>lowerBodyJeans</td>\n",
       "      <td>personalLarger60</td>\n",
       "      <td>personalMale</td>\n",
       "      <td>upperBodyShortSleeve</td>\n",
       "      <td></td>\n",
       "      <td>carryingNothing</td>\n",
       "      <td>accessoryNothing</td>\n",
       "    </tr>\n",
       "  </tbody>\n",
       "</table>\n",
       "</div>"
      ],
      "text/plain": [
       "  Upper Body Color Upper Body Lower Body Color Hair Color Footwear Color  \\\n",
       "0                                                                          \n",
       "1    upperBodyBlue              lowerBodyBlack  hairBlack  footwearWhite   \n",
       "2     upperBodyRed               lowerBodyGrey  hairBrown  footwearWhite   \n",
       "3    upperBodyBlue              lowerBodyBlack  hairBlack  footwearWhite   \n",
       "4   upperBodyBlack   Ellipsis   lowerBodyBlack                             \n",
       "5   upperBodyBlack   Ellipsis    lowerBodyBlue             footwearBrown   \n",
       "\n",
       "               Pants               Age           Sex         Sleeve Length  \\\n",
       "0                                                                            \n",
       "1     lowerBodyJeans    personalLess45  personalMale  upperBodyShortSleeve   \n",
       "2     lowerBodyJeans    personalLess30                upperBodyShortSleeve   \n",
       "3  lowerBodyTrousers    personalLess30  personalMale  upperBodyShortSleeve   \n",
       "4     lowerBodyJeans    personalLess30  personalMale  upperBodyShortSleeve   \n",
       "5     lowerBodyJeans  personalLarger60  personalMale  upperBodyShortSleeve   \n",
       "\n",
       "  Hair Length              Carrying         Accessory  \n",
       "0                                                      \n",
       "1   hairShort  carryingMessengerBag  accessoryNothing  \n",
       "2   hairShort       carryingNothing               NaN  \n",
       "3   hairShort       carryingNothing               NaN  \n",
       "4   hairShort       carryingNothing               NaN  \n",
       "5                   carryingNothing  accessoryNothing  "
      ]
     },
     "execution_count": 453,
     "metadata": {},
     "output_type": "execute_result"
    }
   ],
   "source": [
    "#Cleaning the Upper Body Column\n",
    "mask = (data['Upper Body'] == 1)\n",
    "data['Upper Body'][mask] = \" \"\n",
    "data.head(5)"
   ]
  },
  {
   "cell_type": "code",
   "execution_count": 454,
   "metadata": {
    "collapsed": false
   },
   "outputs": [],
   "source": [
    "data['Accessory'].isnull().sum() # = 88\n",
    "#We will also drop the accessory column since it has a large chunk of unknown data\n",
    "data = data.drop(['Accessory'],axis=1)"
   ]
  },
  {
   "cell_type": "code",
   "execution_count": 455,
   "metadata": {
    "collapsed": false
   },
   "outputs": [
    {
     "data": {
      "text/plain": [
       "carryingNothing         72\n",
       "carryingMessengerBag    50\n",
       "carryingOther           31\n",
       "carryingBackpack        12\n",
       "carryingSuitcase         4\n",
       "carryingFolder           2\n",
       "                         2\n",
       "carryingPlasticBags      1\n",
       "Name: Carrying, dtype: int64"
      ]
     },
     "execution_count": 455,
     "metadata": {},
     "output_type": "execute_result"
    }
   ],
   "source": [
    "mask = data['Carrying'].str.startswith('carr',na=False)\n",
    "data['Carrying'][~mask] = \" \"\n",
    "data['Carrying'].value_counts()"
   ]
  },
  {
   "cell_type": "code",
   "execution_count": 475,
   "metadata": {
    "collapsed": false
   },
   "outputs": [
    {
     "data": {
      "text/plain": [
       "Ellipsis"
      ]
     },
     "execution_count": 475,
     "metadata": {},
     "output_type": "execute_result"
    }
   ],
   "source": [
    "data.loc[4]['Upper Body']"
   ]
  },
  {
   "cell_type": "code",
   "execution_count": null,
   "metadata": {
    "collapsed": true
   },
   "outputs": [],
   "source": []
  },
  {
   "cell_type": "code",
   "execution_count": null,
   "metadata": {
    "collapsed": true
   },
   "outputs": [],
   "source": []
  },
  {
   "cell_type": "code",
   "execution_count": null,
   "metadata": {
    "collapsed": true
   },
   "outputs": [],
   "source": []
  },
  {
   "cell_type": "code",
   "execution_count": null,
   "metadata": {
    "collapsed": true
   },
   "outputs": [],
   "source": []
  },
  {
   "cell_type": "code",
   "execution_count": null,
   "metadata": {
    "collapsed": true
   },
   "outputs": [],
   "source": []
  },
  {
   "cell_type": "code",
   "execution_count": null,
   "metadata": {
    "collapsed": true
   },
   "outputs": [],
   "source": []
  },
  {
   "cell_type": "code",
   "execution_count": null,
   "metadata": {
    "collapsed": true
   },
   "outputs": [],
   "source": []
  },
  {
   "cell_type": "code",
   "execution_count": null,
   "metadata": {
    "collapsed": true
   },
   "outputs": [],
   "source": []
  },
  {
   "cell_type": "code",
   "execution_count": null,
   "metadata": {
    "collapsed": true
   },
   "outputs": [],
   "source": []
  },
  {
   "cell_type": "code",
   "execution_count": null,
   "metadata": {
    "collapsed": true
   },
   "outputs": [],
   "source": []
  }
 ],
 "metadata": {
  "anaconda-cloud": {},
  "kernelspec": {
   "display_name": "Python [Root]",
   "language": "python",
   "name": "Python [Root]"
  },
  "language_info": {
   "codemirror_mode": {
    "name": "ipython",
    "version": 3
   },
   "file_extension": ".py",
   "mimetype": "text/x-python",
   "name": "python",
   "nbconvert_exporter": "python",
   "pygments_lexer": "ipython3",
   "version": "3.5.1"
  }
 },
 "nbformat": 4,
 "nbformat_minor": 0
}
